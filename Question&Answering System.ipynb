{
 "cells": [
  {
   "cell_type": "code",
   "execution_count": 1,
   "id": "f73d7a83",
   "metadata": {},
   "outputs": [],
   "source": [
    "import json\n",
    "\n",
    "with open(r'data/train.json', 'r') as read_file:\n",
    "    train_data  = json.load(read_file)\n"
   ]
  },
  {
   "cell_type": "code",
   "execution_count": 2,
   "id": "fcdd5779",
   "metadata": {},
   "outputs": [
    {
     "data": {
      "text/plain": [
       "[{'context': 'Mistborn is a series of epic fantasy novels written by American author Brandon Sanderson.',\n",
       "  'qas': [{'id': '00001',\n",
       "    'is_impossible': False,\n",
       "    'question': 'Who is the author of the Mistborn series?',\n",
       "    'answers': [{'text': 'Brandon Sanderson', 'answer_start': 71}]}]},\n",
       " {'context': 'The first series, published between 2006 and 2008, consists of The Final Empire,The Well of Ascension, and The Hero of Ages.',\n",
       "  'qas': [{'id': '00002',\n",
       "    'is_impossible': False,\n",
       "    'question': 'When was the series published?',\n",
       "    'answers': [{'text': 'between 2006 and 2008', 'answer_start': 28}]},\n",
       "   {'id': '00003',\n",
       "    'is_impossible': False,\n",
       "    'question': 'What are the three books in the series?',\n",
       "    'answers': [{'text': 'The Final Empire, The Well of Ascension, and The Hero of Ages',\n",
       "      'answer_start': 63}]},\n",
       "   {'id': '00004',\n",
       "    'is_impossible': True,\n",
       "    'question': 'Who is the main character in the series?',\n",
       "    'answers': []}]}]"
      ]
     },
     "execution_count": 2,
     "metadata": {},
     "output_type": "execute_result"
    }
   ],
   "source": [
    "train_data\n"
   ]
  },
  {
   "cell_type": "code",
   "execution_count": 3,
   "id": "01757fcf",
   "metadata": {},
   "outputs": [],
   "source": [
    "\n",
    "with open(r'data/test.json', 'r') as read_file:\n",
    "    eval_data   = json.load(read_file)\n"
   ]
  },
  {
   "cell_type": "code",
   "execution_count": 4,
   "id": "5a7fbaeb",
   "metadata": {},
   "outputs": [
    {
     "data": {
      "text/plain": [
       "[{'context': 'The series primarily takes place in a region called the Final Empire on a world called Scadrial, where the sun and sky are red, vegetation is brown, and the ground is constantly being covered under black volcanic ashfalls.',\n",
       "  'qas': [{'id': '00001',\n",
       "    'is_impossible': False,\n",
       "    'question': 'Where does the series take place?',\n",
       "    'answers': [{'text': 'region called the Final Empire', 'answer_start': 38},\n",
       "     {'text': 'world called Scadrial', 'answer_start': 74}]}]},\n",
       " {'context': '\"Mistings\" have only one of the many Allomantic powers, while \"Mistborns\" have all the powers.',\n",
       "  'qas': [{'id': '00002',\n",
       "    'is_impossible': False,\n",
       "    'question': 'How many powers does a Misting possess?',\n",
       "    'answers': [{'text': 'one', 'answer_start': 21}]},\n",
       "   {'id': '00003',\n",
       "    'is_impossible': True,\n",
       "    'question': 'What are Allomantic powers?',\n",
       "    'answers': []}]}]"
      ]
     },
     "execution_count": 4,
     "metadata": {},
     "output_type": "execute_result"
    }
   ],
   "source": [
    "eval_data "
   ]
  },
  {
   "cell_type": "code",
   "execution_count": 5,
   "id": "d896ab12",
   "metadata": {},
   "outputs": [
    {
     "name": "stderr",
     "output_type": "stream",
     "text": [
      "C:\\Users\\User\\anaconda3\\envs\\nlp\\Lib\\site-packages\\tqdm\\auto.py:21: TqdmWarning: IProgress not found. Please update jupyter and ipywidgets. See https://ipywidgets.readthedocs.io/en/stable/user_install.html\n",
      "  from .autonotebook import tqdm as notebook_tqdm\n"
     ]
    }
   ],
   "source": [
    "import logging\n",
    "from simpletransformers.question_answering import QuestionAnsweringModel, QuestionAnsweringArgs\n"
   ]
  },
  {
   "cell_type": "code",
   "execution_count": 6,
   "id": "4a9ead6a",
   "metadata": {},
   "outputs": [],
   "source": [
    "model_type='bert'\n",
    "model_name='bert-base-cased'\n",
    "\n",
    "if model_type == 'bert':\n",
    "    model_name = 'bert-base-cased'\n",
    "elif model_type == \"roberta\":\n",
    "    model_name = \"roberta-base\"\n",
    "\n",
    "elif model_type == \"distilbert\":\n",
    "    model_name = \"distilbert-base-cased\"\n",
    "\n",
    "elif model_type == \"distilroberta\":\n",
    "    model_type = \"roberta\"\n",
    "    model_name = \"distilroberta-base\"\n",
    "\n",
    "elif model_type == \"electra-base\":\n",
    "    model_type = \"electra\"\n",
    "    model_name = \"google/electra-base-discriminator\"\n",
    "\n",
    "elif model_type == \"electra-small\":\n",
    "    model_type = \"electra\"\n",
    "    model_name = \"google/electra-small-discriminator\"\n",
    "\n",
    "elif model_type == \"xlnet\":\n",
    "    model_name = \"xlnet-base-cased\""
   ]
  },
  {
   "cell_type": "code",
   "execution_count": 7,
   "id": "258a1d80",
   "metadata": {},
   "outputs": [],
   "source": [
    "#Configure  \n",
    "model_args = QuestionAnsweringArgs()\n",
    "model_args.train_batch_size = 16\n",
    "model_args.evaluate_during_training = True\n",
    "model_args.n_best_size=3\n",
    "model_args.num_train_epochs=5"
   ]
  },
  {
   "cell_type": "code",
   "execution_count": 8,
   "id": "dee27890",
   "metadata": {},
   "outputs": [
    {
     "name": "stderr",
     "output_type": "stream",
     "text": [
      "Some weights of BertForQuestionAnswering were not initialized from the model checkpoint at bert-base-cased and are newly initialized: ['qa_outputs.bias', 'qa_outputs.weight']\n",
      "You should probably TRAIN this model on a down-stream task to be able to use it for predictions and inference.\n"
     ]
    }
   ],
   "source": [
    "# Combine model_args and train_args into a single args dictionary\n",
    "args = {\n",
    "    \"reprocess_input_data\": True,\n",
    "    \"overwrite_output_dir\": True,\n",
    "    \"use_cached_eval_features\": True,\n",
    "    \"output_dir\": f\"outputs/{model_type}\",\n",
    "    \"best_model_dir\": f\"outputs/{model_type}/best_model\",\n",
    "    \"evaluate_during_training\": True,\n",
    "    \"max_seq_length\": 128,\n",
    "    \"num_train_epochs\": 5,\n",
    "    \"evaluate_during_training_steps\": 1000,\n",
    "    \"wandb_project\": \"Question Answer Application\",\n",
    "    \"wandb_kwargs\": {\"name\": model_name},\n",
    "    \"save_model_every_epoch\": False,\n",
    "    \"save_eval_checkpoints\": False,\n",
    "    \"n_best_size\": 3,\n",
    "    \"train_batch_size\": 128,\n",
    "    \"eval_batch_size\": 64,\n",
    "    # Add any other configuration parameters here\n",
    "}\n",
    "\n",
    "# Initialize the Model \n",
    "model = QuestionAnsweringModel(model_type, model_name, use_cuda=False, args=args)\n",
    "\n"
   ]
  },
  {
   "cell_type": "code",
   "execution_count": 10,
   "id": "9d89404c",
   "metadata": {},
   "outputs": [
    {
     "name": "stderr",
     "output_type": "stream",
     "text": [
      "convert squad examples to features: 100%|██████████████████████████████████████████████| 4/4 [00:00<00:00, 1002.52it/s]\n",
      "add example index and unique id: 100%|███████████████████████████████████████████████████████████| 4/4 [00:00<?, ?it/s]\n",
      "Epoch:   0%|                                                                                     | 0/5 [00:00<?, ?it/s]Failed to detect the name of this notebook, you can set it manually with the WANDB_NOTEBOOK_NAME environment variable to enable code saving.\n",
      "\u001b[34m\u001b[1mwandb\u001b[0m: Logging into wandb.ai. (Learn how to deploy a W&B server locally: https://wandb.me/wandb-server)\n",
      "\u001b[34m\u001b[1mwandb\u001b[0m: You can find your API key in your browser here: https://wandb.ai/authorize\n",
      "\u001b[34m\u001b[1mwandb\u001b[0m: Paste an API key from your profile and hit enter, or press ctrl+c to quit:"
     ]
    },
    {
     "name": "stdout",
     "output_type": "stream",
     "text": [
      " ········\n"
     ]
    },
    {
     "name": "stderr",
     "output_type": "stream",
     "text": [
      "\u001b[34m\u001b[1mwandb\u001b[0m: \u001b[32m\u001b[41mERROR\u001b[0m API key must be 40 characters long, yours was 4\n",
      "\u001b[34m\u001b[1mwandb\u001b[0m: Logging into wandb.ai. (Learn how to deploy a W&B server locally: https://wandb.me/wandb-server)\n",
      "\u001b[34m\u001b[1mwandb\u001b[0m: You can find your API key in your browser here: https://wandb.ai/authorize\n",
      "\u001b[34m\u001b[1mwandb\u001b[0m: Paste an API key from your profile and hit enter, or press ctrl+c to quit:"
     ]
    },
    {
     "name": "stdout",
     "output_type": "stream",
     "text": [
      " ········\n"
     ]
    },
    {
     "name": "stderr",
     "output_type": "stream",
     "text": [
      "\u001b[34m\u001b[1mwandb\u001b[0m: Appending key for api.wandb.ai to your netrc file: C:\\Users\\User/.netrc\n"
     ]
    },
    {
     "data": {
      "text/html": [
       "Tracking run with wandb version 0.15.9"
      ],
      "text/plain": [
       "<IPython.core.display.HTML object>"
      ]
     },
     "metadata": {},
     "output_type": "display_data"
    },
    {
     "data": {
      "text/html": [
       "Run data is saved locally in <code>C:\\Users\\User\\Documents\\NLP\\Question-and-Answering-system\\wandb\\run-20230901_140913-tsw4si1k</code>"
      ],
      "text/plain": [
       "<IPython.core.display.HTML object>"
      ]
     },
     "metadata": {},
     "output_type": "display_data"
    },
    {
     "data": {
      "text/html": [
       "Syncing run <strong><a href='https://wandb.ai/dissanayakanishan3/Question%20Answer%20Application/runs/tsw4si1k' target=\"_blank\">bert-base-cased</a></strong> to <a href='https://wandb.ai/dissanayakanishan3/Question%20Answer%20Application' target=\"_blank\">Weights & Biases</a> (<a href='https://wandb.me/run' target=\"_blank\">docs</a>)<br/>"
      ],
      "text/plain": [
       "<IPython.core.display.HTML object>"
      ]
     },
     "metadata": {},
     "output_type": "display_data"
    },
    {
     "data": {
      "text/html": [
       " View project at <a href='https://wandb.ai/dissanayakanishan3/Question%20Answer%20Application' target=\"_blank\">https://wandb.ai/dissanayakanishan3/Question%20Answer%20Application</a>"
      ],
      "text/plain": [
       "<IPython.core.display.HTML object>"
      ]
     },
     "metadata": {},
     "output_type": "display_data"
    },
    {
     "data": {
      "text/html": [
       " View run at <a href='https://wandb.ai/dissanayakanishan3/Question%20Answer%20Application/runs/tsw4si1k' target=\"_blank\">https://wandb.ai/dissanayakanishan3/Question%20Answer%20Application/runs/tsw4si1k</a>"
      ],
      "text/plain": [
       "<IPython.core.display.HTML object>"
      ]
     },
     "metadata": {},
     "output_type": "display_data"
    },
    {
     "name": "stderr",
     "output_type": "stream",
     "text": [
      "Epoch 1 of 5:   0%|                                                                              | 0/5 [09:55<?, ?it/s]\n",
      "Running Epoch 0 of 5:   0%|                                                                                                                                                                 | 0/1 [00:00<?, ?it/s]\u001b[A\n",
      "Epochs 0/5. Running Loss:    5.0300:   0%|                                                                                                                                                  | 0/1 [00:00<?, ?it/s]\u001b[A\n",
      "Epochs 0/5. Running Loss:    5.0300: 100%|██████████████████████████████████████████████████████████████████████████████████████████████████████████████████████████████████████████| 1/1 [00:01<00:00,  1.93s/it]\u001b[A\n",
      "\n",
      "convert squad examples to features: 100%|█████████████████████████████████████████████████████████████████████████████████████████████████████████████████████████████████████████| 3/3 [00:00<00:00, 1504.95it/s]\u001b[A\n",
      "\n",
      "add example index and unique id: 100%|████████████████████████████████████████████████████████████████████████████████████████████████████████████████████████████████████████████| 3/3 [00:00<00:00, 3008.83it/s]\u001b[A\n",
      "\n",
      "Running Evaluation:   0%|                                                                                                                                                                   | 0/1 [00:00<?, ?it/s]\u001b[A\n",
      "Running Evaluation: 100%|███████████████████████████████████████████████████████████████████████████████████████████████████████████████████████████████████████████████████████████| 1/1 [00:00<00:00,  2.05it/s]\u001b[A\n",
      "Epoch 2 of 5:  20%|█████████████▊                                                       | 1/5 [10:50<43:23, 651.00s/it]\n",
      "Running Epoch 1 of 5:   0%|                                                                                                                                                                 | 0/1 [00:00<?, ?it/s]\u001b[A\n",
      "Epochs 1/5. Running Loss:    4.9842:   0%|                                                                                                                                                  | 0/1 [00:00<?, ?it/s]\u001b[A\n",
      "Epochs 1/5. Running Loss:    4.9842: 100%|██████████████████████████████████████████████████████████████████████████████████████████████████████████████████████████████████████████| 1/1 [00:01<00:00,  1.78s/it]\u001b[A\n",
      "\n",
      "Running Evaluation:   0%|                                                                                                                                                                   | 0/1 [00:00<?, ?it/s]\u001b[A\n",
      "Running Evaluation: 100%|███████████████████████████████████████████████████████████████████████████████████████████████████████████████████████████████████████████████████████████| 1/1 [00:00<00:00,  2.37it/s]\u001b[A\n",
      "Epoch 3 of 5:  40%|███████████████████████████▌                                         | 2/5 [10:55<13:32, 270.89s/it]\n",
      "Running Epoch 2 of 5:   0%|                                                                                                                                                                 | 0/1 [00:00<?, ?it/s]\u001b[A\n",
      "Epochs 2/5. Running Loss:    4.4260:   0%|                                                                                                                                                  | 0/1 [00:00<?, ?it/s]\u001b[A\n",
      "Epochs 2/5. Running Loss:    4.4260: 100%|██████████████████████████████████████████████████████████████████████████████████████████████████████████████████████████████████████████| 1/1 [00:01<00:00,  1.83s/it]\u001b[A\n",
      "\n",
      "Running Evaluation:   0%|                                                                                                                                                                   | 0/1 [00:00<?, ?it/s]\u001b[A\n",
      "Running Evaluation: 100%|███████████████████████████████████████████████████████████████████████████████████████████████████████████████████████████████████████████████████████████| 1/1 [00:00<00:00,  2.09it/s]\u001b[A\n",
      "Epoch 4 of 5:  60%|█████████████████████████████████████████▍                           | 3/5 [11:06<05:04, 152.30s/it]\n",
      "Running Epoch 3 of 5:   0%|                                                                                                                                                                 | 0/1 [00:00<?, ?it/s]\u001b[A\n",
      "Epochs 3/5. Running Loss:    4.0260:   0%|                                                                                                                                                  | 0/1 [00:00<?, ?it/s]\u001b[A\n",
      "Epochs 3/5. Running Loss:    4.0260: 100%|██████████████████████████████████████████████████████████████████████████████████████████████████████████████████████████████████████████| 1/1 [00:01<00:00,  1.94s/it]\u001b[A\n",
      "\n",
      "Running Evaluation:   0%|                                                                                                                                                                   | 0/1 [00:00<?, ?it/s]\u001b[A\n",
      "Running Evaluation: 100%|███████████████████████████████████████████████████████████████████████████████████████████████████████████████████████████████████████████████████████████| 1/1 [00:00<00:00,  2.12it/s]\u001b[A\n",
      "Epoch 5 of 5:  80%|███████████████████████████████████████████████████████▏             | 4/5 [11:31<01:41, 101.92s/it]\n",
      "Running Epoch 4 of 5:   0%|                                                                                                                                                                 | 0/1 [00:00<?, ?it/s]\u001b[A\n",
      "Epochs 4/5. Running Loss:    3.7500:   0%|                                                                                                                                                  | 0/1 [00:00<?, ?it/s]\u001b[A\n",
      "Epochs 4/5. Running Loss:    3.7500: 100%|██████████████████████████████████████████████████████████████████████████████████████████████████████████████████████████████████████████| 1/1 [00:01<00:00,  1.98s/it]\u001b[A\n",
      "\n",
      "Running Evaluation:   0%|                                                                                                                                                                   | 0/1 [00:00<?, ?it/s]\u001b[A\n",
      "Running Evaluation: 100%|███████████████████████████████████████████████████████████████████████████████████████████████████████████████████████████████████████████████████████████| 1/1 [00:00<00:00,  2.06it/s]\u001b[A\n",
      "Epoch 5 of 5: 100%|█████████████████████████████████████████████████████████████████████| 5/5 [11:47<00:00, 141.47s/it]\n"
     ]
    },
    {
     "data": {
      "text/plain": [
       "(5,\n",
       " {'global_step': [1, 2, 3, 4, 5],\n",
       "  'correct': [0, 0, 0, 0, 0],\n",
       "  'similar': [1, 1, 1, 1, 1],\n",
       "  'incorrect': [2, 2, 2, 2, 2],\n",
       "  'train_loss': [5.030000686645508,\n",
       "   4.984159469604492,\n",
       "   4.42601203918457,\n",
       "   4.026036262512207,\n",
       "   3.74998140335083],\n",
       "  'eval_loss': [0.24883157014846802,\n",
       "   0.1923990100622177,\n",
       "   0.1274278312921524,\n",
       "   0.06551838666200638,\n",
       "   0.03265915811061859]})"
      ]
     },
     "execution_count": 10,
     "metadata": {},
     "output_type": "execute_result"
    }
   ],
   "source": [
    "model.train_model(train_data, eval_data=eval_data)"
   ]
  },
  {
   "cell_type": "code",
   "execution_count": 11,
   "id": "828be703",
   "metadata": {},
   "outputs": [
    {
     "name": "stderr",
     "output_type": "stream",
     "text": [
      "Running Evaluation: 100%|███████████████████████████████████████████████████████████████████████████████████████████████████████████████████████████████████████████████████████████| 1/1 [00:00<00:00,  2.30it/s]\n"
     ]
    }
   ],
   "source": [
    "result, texts = model.eval_model(eval_data)"
   ]
  },
  {
   "cell_type": "code",
   "execution_count": 12,
   "id": "e0c1be54",
   "metadata": {},
   "outputs": [],
   "source": [
    "to_predict = [\n",
    "    {\n",
    "        \"context\": \"Vin is a Mistborn of great power and skill.\",\n",
    "        \"qas\": [\n",
    "            {\n",
    "                \"question\": \"What is Vin's speciality?\",\n",
    "                \"id\": \"0\",\n",
    "            }\n",
    "        ],\n",
    "    }\n",
    "]"
   ]
  },
  {
   "cell_type": "code",
   "execution_count": 13,
   "id": "ef7ae0c5",
   "metadata": {},
   "outputs": [
    {
     "name": "stderr",
     "output_type": "stream",
     "text": [
      "convert squad examples to features: 100%|███████████████████████████████████████████████████████████████████████████████████████████████████████████████████████████████████████████████████| 1/1 [00:00<?, ?it/s]\n",
      "add example index and unique id: 100%|██████████████████████████████████████████████████████████████████████████████████████████████████████████████████████████████████████████████████████| 1/1 [00:00<?, ?it/s]\n",
      "Running Prediction: 100%|███████████████████████████████████████████████████████████████████████████████████████████████████████████████████████████████████████████████████████████| 1/1 [00:00<00:00,  5.45it/s]"
     ]
    },
    {
     "name": "stdout",
     "output_type": "stream",
     "text": [
      "[{'id': '0', 'answer': ['born of', 'stborn of', 'is a Mistborn of']}]\n"
     ]
    },
    {
     "name": "stderr",
     "output_type": "stream",
     "text": [
      "\n"
     ]
    }
   ],
   "source": [
    "answers, probabilities = model.predict(to_predict)\n",
    "\n",
    "print(answers)"
   ]
  },
  {
   "cell_type": "code",
   "execution_count": null,
   "id": "7620a48e",
   "metadata": {},
   "outputs": [],
   "source": []
  }
 ],
 "metadata": {
  "kernelspec": {
   "display_name": "Python 3 (ipykernel)",
   "language": "python",
   "name": "python3"
  },
  "language_info": {
   "codemirror_mode": {
    "name": "ipython",
    "version": 3
   },
   "file_extension": ".py",
   "mimetype": "text/x-python",
   "name": "python",
   "nbconvert_exporter": "python",
   "pygments_lexer": "ipython3",
   "version": "3.11.4"
  }
 },
 "nbformat": 4,
 "nbformat_minor": 5
}
